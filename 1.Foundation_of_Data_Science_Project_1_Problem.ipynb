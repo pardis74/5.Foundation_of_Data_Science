{
 "cells": [
  {
   "cell_type": "markdown",
   "metadata": {},
   "source": [
    "## Homework 1 - Data Exploration using Census Data\n",
    "\n",
    "In this homework assignment you will use census data from the 1994 and 1995 current population surveys conducted by the U.S. Census Bureau. A copy of this dataset is located at UCI Machine Learning repository, please see this [link](https://archive.ics.uci.edu/ml/datasets/Census-Income+%28KDD%29) to reach to the dataset website.\n",
    "\n",
    "This dataset contains census data extracted from the 1994 and 1995 Current Population Surveys. We will only work with 'training' data (a link to that is provided to you below). The data contains 41 demographic and employment related variables. The abbreviated column names provided to you below. You are expected to read the documentation of this dataset, understand the features and preprocess this dataset. Additional information can be found [in the data description](https://archive.ics.uci.edu/ml/machine-learning-databases/census-income-mld/census-income.data.html) and [additional comments](https://archive.ics.uci.edu/ml/machine-learning-databases/census-income-mld/census-income.names).\n",
    "\n",
    "Below you will find a code snippet to read the data into a pandas dataframe. You can alternatively download it yourself, extract and read it manually. The questions are shown in the subsequent cells. You need to provide your answers in this file. \n",
    "\n",
    "Your code is expected to have no errors, please make sure all your cells run properly before submitting (click Kernel->Restart & Run All to see if your code sequence works). \n",
    "\n",
    "__Please change the notebook's name and add your name before submitting.__"
   ]
  },
  {
   "cell_type": "markdown",
   "metadata": {},
   "source": [
    "### Before moving on, did you use a large language model or anything that functions in the similar fashion? "
   ]
  },
  {
   "cell_type": "markdown",
   "metadata": {},
   "source": [
    "<input type=\"checkbox\" /> Yes\n",
    "<input type=\"checkbox\" /> No\n",
    "\n",
    "<p> </p>\n",
    "Which model did you use ? \n",
    "<input type=\"text\" value=\"Type N/A if No\">\n",
    "\n",
    "<p> </p>\n",
    "Do you understand that you are expected to understand all the code submitted and you may be asked to provide explanations? \n",
    "<input type=\"checkbox\" /> Yes\n",
    "<input type=\"checkbox\" /> No\n",
    "<p> </p> <em> Please note that you are free to use large language models. Your instructor believes that it is an important skill to learn how to use those models and they will be relevant for your future careers. However, those models are imperfect and they will keep being that way. Therefore, you are expected to understand the code you are writing and do not copy paste uncritically. Failure to do so may result in marks taken off. </em>"
   ]
  },
  {
   "cell_type": "code",
   "execution_count": null,
   "metadata": {},
   "outputs": [],
   "source": [
    "import pandas as pd\n",
    "import numpy as np"
   ]
  },
  {
   "cell_type": "code",
   "execution_count": null,
   "metadata": {},
   "outputs": [],
   "source": [
    "# import urllib.request\n",
    "# url = 'https://archive.ics.uci.edu/ml/machine-learning-databases/census-income-mld/census-income.data.gz'\n",
    "# census_dl_file = './census-income.data.gz'\n",
    "# urllib.request.urlretrieve(url, census_dl_file)"
   ]
  },
  {
   "cell_type": "code",
   "execution_count": null,
   "metadata": {},
   "outputs": [],
   "source": [
    "columns_abbr = ['AAGE', 'ACLSWKR', 'ADTIND', 'ADTOCC', 'AHGA', 'AHRSPAY', 'AHSCOL', 'AMARITL', 'AMJIND', 'AMJOCC',\n",
    "                'ARACE', 'AREORGN', 'ASEX', 'AUNMEM', 'AUNTYPE', 'AWKSTAT', 'CAPGAIN', 'CAPLOSS', 'DIVVAL', \n",
    "                'FILESTAT', 'GRINREG', 'GRINST', 'HHDFMX', 'HHDREL', 'MARSUPWT', 'MIGMTR1', 'MIGMTR3', 'MIGMTR4', \n",
    "                'MIGSAME', 'MIGSUN', 'NOEMP', 'PARENT', 'PEFNTVTY', 'PEMNTVTY', 'PENATVTY', 'PRCITSHP', 'SEOTR', \n",
    "                'VETQVA', 'VETYN', 'WKSWORK', 'YEAR', 'PTOTVALB']"
   ]
  },
  {
   "cell_type": "code",
   "execution_count": null,
   "metadata": {},
   "outputs": [],
   "source": [
    "# you can read from the compressed file\n",
    "df = pd.read_csv('census-income.data.gz', compression='gzip', names=columns_abbr, sep=r',', skipinitialspace=True)\n",
    "df.head()\n",
    "\n",
    "# you can also unzip census-income.zip and read using the following\n",
    "# df = pd.read_csv('census-income.csv', names=columns_abbr, sep=r',', skipinitialspace=True)"
   ]
  },
  {
   "cell_type": "code",
   "execution_count": null,
   "metadata": {},
   "outputs": [],
   "source": [
    "# you can see the DataFrame's info panel here\n",
    "# df.info()"
   ]
  },
  {
   "cell_type": "markdown",
   "metadata": {},
   "source": [
    "### Q1 - Basic Dataset Manipulation [15 pts]\n",
    "\n",
    "#### Q1.1 Sort the instances in the dataset based on their age in descending order (AAGE attribute in the Census dataset corresponds to the age) and display top-20 instances. (5 pts)\n",
    "\n",
    "\n",
    "\n",
    "\n"
   ]
  },
  {
   "cell_type": "code",
   "execution_count": null,
   "metadata": {
    "scrolled": true
   },
   "outputs": [],
   "source": [
    "# your code goes here"
   ]
  },
  {
   "cell_type": "markdown",
   "metadata": {},
   "source": [
    "#### Q1.2 Discover the average age for top 7% oldest instances? Display two decimal places for the average age. (5 pts)\n"
   ]
  },
  {
   "cell_type": "code",
   "execution_count": null,
   "metadata": {},
   "outputs": [],
   "source": [
    "# your code goes here"
   ]
  },
  {
   "cell_type": "markdown",
   "metadata": {},
   "source": [
    "#### Q1.3 Find and display the median age of instances for each reported race (available in ARACE feature). [Hint: You can use groupby() function.] (5 pts)\n"
   ]
  },
  {
   "cell_type": "code",
   "execution_count": null,
   "metadata": {},
   "outputs": [],
   "source": [
    "# your code goes here"
   ]
  },
  {
   "cell_type": "markdown",
   "metadata": {},
   "source": [
    "### Q2 - Identify the data scales and data types for each variable in census data. Identify the domain for each variable by checking the attributes' values. Then, create a data quality report for both categorical (nominal, ordinal) and continuous (interval, ratio) variables. [60 pts]\n",
    "\n",
    "\n",
    "#### Q2.1 Identifying the characteristics (20 pts)\n",
    "For data scales, identify whether an attribute is nominal, ordinal, interval, or ratio scale.\n",
    "For data types, identify the domain and provide an appropriate data type (integer, float, String, date, Boolean). See if that data type is correct in your dataframe.\n",
    "For domain, inspect each distinct value for each attribute. Identify missing values. \n",
    "\n",
    "You can create an external csv file consisting five [or more] columns (including feature name, description, scale, data type, and domain) and display it. A template is provided (See ___features.csv___). To understand what these features represent, please check the original documentation.\n",
    "\n",
    "Please include this file in your submission to get points."
   ]
  },
  {
   "cell_type": "code",
   "execution_count": null,
   "metadata": {},
   "outputs": [],
   "source": [
    "# your code goes here\n",
    "\n"
   ]
  },
  {
   "cell_type": "code",
   "execution_count": null,
   "metadata": {
    "scrolled": true
   },
   "outputs": [],
   "source": [
    "# please fill the information for the data characteristics in the given csv file. read it here and display.\n",
    "features_df = pd.read_csv('./features.csv', index_col ='col_name')\n",
    "# N, O, I, R are Nominal, Ordinal, Interval, Ratio\n",
    "features_df"
   ]
  },
  {
   "cell_type": "markdown",
   "metadata": {},
   "source": [
    "#### Q2.2 Create a Data Quality Report (40 pts)\n",
    "\n",
    "Include the bar plots and histograms for visualizing the distributions. You may get your descriptions from features.csv file. \n",
    "\n",
    "The examples for a continuous and a categorical feature can be seen below. You do not need to use jupyter formatting provided here. You can print a DataFrame or read a csv, and display it. If you will read from a csv, make sure you have that csv in your submission zip file."
   ]
  },
  {
   "cell_type": "code",
   "execution_count": null,
   "metadata": {},
   "outputs": [],
   "source": [
    "# your code goes here"
   ]
  },
  {
   "cell_type": "code",
   "execution_count": null,
   "metadata": {},
   "outputs": [],
   "source": []
  },
  {
   "cell_type": "code",
   "execution_count": null,
   "metadata": {},
   "outputs": [],
   "source": []
  },
  {
   "cell_type": "code",
   "execution_count": null,
   "metadata": {},
   "outputs": [],
   "source": []
  },
  {
   "cell_type": "markdown",
   "metadata": {},
   "source": [
    "\n",
    "### Example Data Quality Report for Continuous Variables\n",
    "| Feature | Desc. | Count | % of Missing | Card. | Min. | Q1 | Median | Q3 | Max. | Mean | Std. Dev. | Notes |\n",
    "| --- | --- | --- | --- | --- | --- | --- | --- | --- | --- | --- | --- | --- |\n",
    "| AAGE | Age | 199,523 | 0 | 91 | 0 | 15 | 33 | 50 | 90 | 34.49 | 22.31 |  |\n",
    "\n",
    "### Example Data Quality Report for Categorical Variables\n",
    "| Feature | Desc. | Count | % of Missing | Card. | Mode | Mode Freq. | Mode % | 2nd Mode | 2nd Mode Freq. | 2nd Mode Perc | Notes |\n",
    "| --- | --- | --- | --- | --- | --- | --- | --- | --- | --- | --- | --- |\n",
    "| ACLSWKR | Class of worker | 199,523 | 0 | 9 | Not in Universe | 100,245 | 50.24 | Private | 72,028 |  36.10 |  |"
   ]
  },
  {
   "cell_type": "code",
   "execution_count": null,
   "metadata": {},
   "outputs": [],
   "source": [
    "# bar plots"
   ]
  },
  {
   "cell_type": "code",
   "execution_count": null,
   "metadata": {},
   "outputs": [],
   "source": [
    "# histograms"
   ]
  },
  {
   "cell_type": "markdown",
   "metadata": {},
   "source": [
    "### Q3 Outlier Identification (25 pts)\n",
    "\n",
    "#### Q3.1 For each continuous feature, identify the outliers using the IQR method. (15 pts)\n",
    "For each feature, report the lower and upper bounds and number of instances that are identified as outliers.\n",
    "Then, display boxplots and discuss if your outliers analysis makes sense. Discuss why you would (or would not) use the IQR method.\n"
   ]
  },
  {
   "cell_type": "code",
   "execution_count": null,
   "metadata": {},
   "outputs": [],
   "source": [
    "# your code goes here"
   ]
  },
  {
   "cell_type": "markdown",
   "metadata": {},
   "source": [
    "#### Q3.2. Replace the outlying values in WKSWORK, MARSUPWT and AAGE features. (10 pts)\n",
    "Use clamping with upper and lower bounds you found in the previous step. Report how many individual cells are being updated for each feature.\n"
   ]
  },
  {
   "cell_type": "code",
   "execution_count": null,
   "metadata": {},
   "outputs": [],
   "source": [
    "# your code goes here"
   ]
  },
  {
   "cell_type": "markdown",
   "metadata": {},
   "source": [
    "### Q4 Normalization (10 pts)\n",
    "\n",
    "Normalize the MARSUPWT, AAGE, NOEMP, CAPGAIN, and CAPLOSS features\n",
    "* Use range normalization for MARSUPWT feature\n",
    "* Use robust scaling for NOEMP feature\n",
    "* Use Z-score normalization for AAGE feature\n",
    "* Use log scaling for CAPGAIN and CAPLOSS features (impute your zero values with 10 before transformation to avoid undefined  $log_{b}0$)"
   ]
  },
  {
   "cell_type": "code",
   "execution_count": null,
   "metadata": {},
   "outputs": [],
   "source": [
    "# your code goes here"
   ]
  }
 ],
 "metadata": {
  "kernelspec": {
   "display_name": "Python 3",
   "language": "python",
   "name": "python3"
  },
  "language_info": {
   "codemirror_mode": {
    "name": "ipython",
    "version": 3
   },
   "file_extension": ".py",
   "mimetype": "text/x-python",
   "name": "python",
   "nbconvert_exporter": "python",
   "pygments_lexer": "ipython3",
   "version": "3.7.6"
  }
 },
 "nbformat": 4,
 "nbformat_minor": 4
}
